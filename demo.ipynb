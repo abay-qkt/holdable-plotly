{
 "cells": [
  {
   "cell_type": "code",
   "execution_count": 3,
   "metadata": {},
   "outputs": [],
   "source": [
    "import pandas as pd\n",
    "import plotly.express as px\n",
    "df = px.data.iris()\n",
    "df.index.name=\"index\"\n",
    "df[\"information\"] = df.apply(lambda x:pd.DataFrame([x]).to_html(),axis=1)\n",
    "fig = px.scatter(df,x=\"sepal_length\",y=\"sepal_width\", color=\"species\",\n",
    "                 custom_data=[\"information\"],\n",
    "                 width=900,height=500)\n",
    "fig.update_layout(clickmode=\"event+select\");"
   ]
  },
  {
   "cell_type": "code",
   "execution_count": 5,
   "metadata": {},
   "outputs": [],
   "source": [
    "import holdable_tooltips\n",
    "fn = holdable_tooltips.export_html(fig,filename='output.html',show_hovercustom=True)"
   ]
  }
 ],
 "metadata": {
  "kernelspec": {
   "display_name": "base2",
   "language": "python",
   "name": "python3"
  },
  "language_info": {
   "codemirror_mode": {
    "name": "ipython",
    "version": 3
   },
   "file_extension": ".py",
   "mimetype": "text/x-python",
   "name": "python",
   "nbconvert_exporter": "python",
   "pygments_lexer": "ipython3",
   "version": "3.12.4"
  }
 },
 "nbformat": 4,
 "nbformat_minor": 2
}
